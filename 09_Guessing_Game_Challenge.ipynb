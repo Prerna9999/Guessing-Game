{
  "nbformat": 4,
  "nbformat_minor": 0,
  "metadata": {
    "kernelspec": {
      "display_name": "Python 3",
      "language": "python",
      "name": "python3"
    },
    "language_info": {
      "codemirror_mode": {
        "name": "ipython",
        "version": 3
      },
      "file_extension": ".py",
      "mimetype": "text/x-python",
      "name": "python",
      "nbconvert_exporter": "python",
      "pygments_lexer": "ipython3",
      "version": "3.8.3"
    },
    "colab": {
      "name": "09-Guessing Game Challenge.ipynb",
      "provenance": [],
      "collapsed_sections": [],
      "include_colab_link": true
    }
  },
  "cells": [
    {
      "cell_type": "markdown",
      "metadata": {
        "id": "view-in-github",
        "colab_type": "text"
      },
      "source": [
        "<a href=\"https://colab.research.google.com/github/Prerna9999/Guessing-Game/blob/main/09_Guessing_Game_Challenge.ipynb\" target=\"_parent\"><img src=\"https://colab.research.google.com/assets/colab-badge.svg\" alt=\"Open In Colab\"/></a>"
      ]
    },
    {
      "cell_type": "markdown",
      "metadata": {
        "id": "zAuHJZeUO8pZ"
      },
      "source": [
        "# Guessing Game Challenge\n",
        "\n",
        "Let's use `while` loops to create a guessing game.\n",
        "\n",
        "The Challenge:\n",
        "\n",
        "Write a program that picks a random integer from 1 to 100, and has players guess the number. The rules are:\n",
        "\n",
        "1. If a player's guess is less than 1 or greater than 100, say \"OUT OF BOUNDS\"\n",
        "2. On a player's first turn, if their guess is\n",
        " * within 10 of the number, return \"WARM!\"\n",
        " * further than 10 away from the number, return \"COLD!\"\n",
        "3. On all subsequent turns, if a guess is \n",
        " * closer to the number than the previous guess return \"WARMER!\"\n",
        " * farther from the number than the previous guess, return \"COLDER!\"\n",
        "4. When the player's guess equals the number, tell them they've guessed correctly *and* how many guesses it took!\n",
        "\n",
        "You can try this from scratch, or follow the steps outlined below.Good luck!\n"
      ]
    },
    {
      "cell_type": "markdown",
      "metadata": {
        "id": "J7Ob9mNxO8pd"
      },
      "source": [
        "#### First, pick a random integer from 1 to 100 using the random module and assign it to a variable\n",
        "\n",
        "Note: `random.randint(a,b)` returns a random integer in range `[a, b]`, including both end points."
      ]
    },
    {
      "cell_type": "code",
      "metadata": {
        "id": "Z6eZ4EPyO8pe"
      },
      "source": [
        "import random\n",
        "num =random.randint(1,100)"
      ],
      "execution_count": 38,
      "outputs": []
    },
    {
      "cell_type": "code",
      "metadata": {
        "id": "Vy0l1Id3O8pe",
        "colab": {
          "base_uri": "https://localhost:8080/"
        },
        "outputId": "014369cc-4697-4fcc-e4cd-3c3b1785010f"
      },
      "source": [
        "num"
      ],
      "execution_count": 39,
      "outputs": [
        {
          "output_type": "execute_result",
          "data": {
            "text/plain": [
              "4"
            ]
          },
          "metadata": {
            "tags": []
          },
          "execution_count": 39
        }
      ]
    },
    {
      "cell_type": "markdown",
      "metadata": {
        "id": "t0hZnYkTO8pf"
      },
      "source": [
        "#### Next, print an introduction to the game and explain the rules"
      ]
    },
    {
      "cell_type": "code",
      "metadata": {
        "colab": {
          "base_uri": "https://localhost:8080/"
        },
        "id": "Kv0uke8ZO8pf",
        "outputId": "449ffc65-9a85-4e31-ddfb-ec7e947438be"
      },
      "source": [
        "print(\"Welcome to GUESSING GAME CHALLENGE\\n\")\n",
        "print(\"Introduction\\n\")\n",
        "print('''1. Computer will pick a random integer from 1 to 100 and then you have to guess a no. between it.\n",
        "2. if your guess is\n",
        "- within 10 of the integer, then computer will show \"WARM!\"\n",
        "- further than 10 away from the integer, then computer will show \"COLD!\"\n",
        "3. On all subsequent turns, if your guess is \n",
        "- closer to the integer than the previous guess then computer will show \"WARMER!\"\n",
        "- farther from the integer than the previous guess, then computer will show \"COLDER!\"\n",
        "4. When your guess is equals to the integer, then you have guessed it  correctly and you will \"WIN\"!\\n \n",
        "LET'S START THE GAME\\n\n",
        "GOOD LUCK!!''')"
      ],
      "execution_count": null,
      "outputs": [
        {
          "output_type": "stream",
          "text": [
            "Welcome to GUESSING GAME CHALLENGE\n",
            "\n",
            "Introduction\n",
            "\n",
            "1. Computer will pick a random integer from 1 to 100 and then you have to guess a no. between it.\n",
            "2. if your guess is\n",
            "- within 10 of the integer, then computer will show \"WARM!\"\n",
            "- further than 10 away from the integer, then computer will show \"COLD!\"\n",
            "3. On all subsequent turns, if your guess is \n",
            "- closer to the integer than the previous guess then computer will show \"WARMER!\"\n",
            "- farther from the integer than the previous guess, then computer will show \"COLDER!\"\n",
            "4. When your guess is equals to the integer, then you have guessed it  correctly and you will \"WIN\"!\n",
            " \n",
            "LET'S START THE GAME\n",
            "\n",
            "GOOD LUCK!!\n"
          ],
          "name": "stdout"
        }
      ]
    },
    {
      "cell_type": "markdown",
      "metadata": {
        "id": "3Kc4ehmBO8pg"
      },
      "source": [
        "#### Create a list to store guesses\n",
        "\n",
        "Hint: zero is a good placeholder value. It's useful because it evaluates to \"False\""
      ]
    },
    {
      "cell_type": "code",
      "metadata": {
        "id": "ty_e_gPMO8pg"
      },
      "source": [
        "guess = [0]"
      ],
      "execution_count": 40,
      "outputs": []
    },
    {
      "cell_type": "markdown",
      "metadata": {
        "id": "VfxfbJx3O8pg"
      },
      "source": [
        "#### Write a `while` loop that asks for a valid guess. Test it a few times to make sure it works."
      ]
    },
    {
      "cell_type": "code",
      "metadata": {
        "colab": {
          "base_uri": "https://localhost:8080/"
        },
        "id": "xgJVDoIoO8ph",
        "outputId": "48a764ed-d619-4167-cc04-f9f06790b366"
      },
      "source": [
        "while True:\n",
        "    \n",
        "    n = int(input(\"Let's guess a number \"))\n",
        "    \n",
        "    if n < 1 or n > 100:\n",
        "        print('OUT OF BOUNDS!\\n Please try again ')\n",
        "        continue\n",
        "        \n",
        "    break"
      ],
      "execution_count": null,
      "outputs": [
        {
          "output_type": "stream",
          "text": [
            "Let's guess a number 67\n"
          ],
          "name": "stdout"
        }
      ]
    },
    {
      "cell_type": "markdown",
      "metadata": {
        "id": "lpg6CE5GO8ph"
      },
      "source": [
        "#### Write a `while` loop that compares the player's guess to our number. If the player guesses correctly, break from the loop. Otherwise, tell the player if they're warmer or colder, and continue asking for guesses.\n",
        "\n",
        "Some hints:\n",
        "* it may help to sketch out all possible combinations on paper first!\n",
        "* you can use the `abs()` function to find the positive difference between two numbers\n",
        "* if you append all new guesses to the list, then the previous guess is given as `guesses[-2]`"
      ]
    },
    {
      "cell_type": "code",
      "metadata": {
        "id": "LJtrD3ArO8pi",
        "colab": {
          "base_uri": "https://localhost:8080/"
        },
        "outputId": "3cbf508a-eeb2-45ec-b2eb-2e12309a0553"
      },
      "source": [
        "\n",
        "\n",
        "\n",
        "while True:\n",
        "  n = int(input(\"enter your guess: \"))\n",
        "  if (n<1 or n>100):\n",
        "    print(\"OUT OF BOUNDS\")\n",
        "    pass\n",
        "  if num == n:\n",
        "    print(f'YOU HAVE GUESSED CORRECTLY \\n And the no. of guesses it took: {len(guess)-1}') \n",
        "    break\n",
        "  guess.append(n)\n",
        "\n",
        "\n",
        "   \n",
        "  \n",
        "  if (guess[-2]): \n",
        "\n",
        "    if (abs(num-n) < abs(num-guess[-2])):\n",
        "    \n",
        "        print('WARMER!')\n",
        "        continue\n",
        "    else:\n",
        "        print('COLDER!')\n",
        "        continue\n",
        "  else: \n",
        "      \n",
        "    if abs(num-n) <= 10:\n",
        "        print('WARM!')\n",
        "    else:\n",
        "\n",
        "       print('COLD!')\n",
        "          \n",
        "   \n",
        "   \n",
        "\n",
        "\n",
        "guess.remove(0)\n",
        "print(guess)\n",
        "\n"
      ],
      "execution_count": 41,
      "outputs": [
        {
          "output_type": "stream",
          "text": [
            "enter your guess: 41\n",
            "COLD!\n",
            "enter your guess: 20\n",
            "WARMER!\n",
            "enter your guess: 21\n",
            "COLDER!\n",
            "enter your guess: 15\n",
            "WARMER!\n",
            "enter your guess: 10\n",
            "WARMER!\n",
            "enter your guess: 6\n",
            "WARMER!\n",
            "enter your guess: 4\n",
            "YOU HAVE GUESSED CORRECTLY \n",
            " And the no. of guesses it took: 6\n",
            "[41, 20, 21, 15, 10, 6]\n"
          ],
          "name": "stdout"
        }
      ]
    },
    {
      "cell_type": "markdown",
      "metadata": {
        "id": "o-p_Tp2AO8pi"
      },
      "source": [
        "That's it! You've just programmed your first game!\n",
        "\n",
        "In the next section we'll learn how to turn some of these repetitive actions into *functions* that can be called whenever we need them."
      ]
    }
  ]
}